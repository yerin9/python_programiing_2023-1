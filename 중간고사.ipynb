{
  "nbformat": 4,
  "nbformat_minor": 0,
  "metadata": {
    "colab": {
      "provenance": [],
      "authorship_tag": "ABX9TyPqb9StQMIDOkxLhMuzHYQ0"
    },
    "kernelspec": {
      "name": "python3",
      "display_name": "Python 3"
    },
    "language_info": {
      "name": "python"
    }
  },
  "cells": [
    {
      "cell_type": "markdown",
      "source": [
        "2023-1 Python Programming 중간고사 시험문제 풀이입니다.\n",
        "\n",
        "2022129471 김예린"
      ],
      "metadata": {
        "id": "4s3qtilK6e6n"
      }
    },
    {
      "cell_type": "markdown",
      "source": [
        "1. 키와 몸무게를 입력하면 BMI를 계산하는 프로그램을 작성하시오 \n",
        "\n",
        " (반복문을 사용해서 계속 몸무게/키를 입력받음. 종료는 -1000을 입력하면 종료하도록 함)"
      ],
      "metadata": {
        "id": "LMdxPmZb6xBm"
      }
    },
    {
      "cell_type": "code",
      "source": [
        "while True:\n",
        "    height = float(input(\"키를 입력하십시오(m), 만약 종료를 하길 원하시면 -1000을 입력하십시오. >> \"))\n",
        "    if height == -1000 : \n",
        "      print (\"BMI 계산을 종료합니다.\")\n",
        "      break\n",
        "\n",
        "    if height == 0 :\n",
        "      print(\"잘못된 입력입니다. 키는 0보다 큰 값을 입력해주세요.\")\n",
        "      continue\n",
        "\n",
        "    weight = float(input(\"몸무게를 입력하십시오(kg) >> \"))\n",
        "\n",
        "    print(\"BMI 지수 : {:.2f}\".format(weight/(height*height)))"
      ],
      "metadata": {
        "colab": {
          "base_uri": "https://localhost:8080/"
        },
        "id": "aqkP5ZA-9eTl",
        "outputId": "5eaa32fa-55af-415a-f6b1-f56aca9f8a67"
      },
      "execution_count": 31,
      "outputs": [
        {
          "output_type": "stream",
          "name": "stdout",
          "text": [
            "키를 입력하십시오(m), 만약 종료를 하길 원하시면 -1000을 입력하십시오. >> 1.67\n",
            "몸무게를 입력하십시오(kg) >> 65\n",
            "BMI 지수 : 23.31\n",
            "키를 입력하십시오(m), 만약 종료를 하길 원하시면 -1000을 입력하십시오. >> 0\n",
            "잘못된 입력입니다. 키는 0보다 큰 값을 입력해주세요.\n",
            "키를 입력하십시오(m), 만약 종료를 하길 원하시면 -1000을 입력하십시오. >> -1000\n",
            "BMI 계산을 종료합니다.\n"
          ]
        }
      ]
    },
    {
      "cell_type": "markdown",
      "source": [
        "2. 숫자 2개를 입력받아서 큰수와 작은수를 차례로 출력하는 프로그램을 작성하시오\n",
        "\n",
        " (반복문을 사용해서 계속 몸무게/키를 입력받음. 종료는  0을 두번 입력하면 종료하도록 함) "
      ],
      "metadata": {
        "id": "O1KjOb4h_jFd"
      }
    },
    {
      "cell_type": "code",
      "source": [
        "while True : \n",
        "  num1 = int(input(\"첫번째 숫자를 입력하십시오 : \"))\n",
        "  num2 = int(input(\"두번째 숫자를 입력하십시오 : \"))\n",
        "  \n",
        "  if num1 == 0 and num2 == 0 :\n",
        "    print (\"숫자 입력을 더 이상 받지 않습니다.\")\n",
        "    break\n",
        "\n",
        "  if num1>num2 : \n",
        "    print (num1, num2)\n",
        "  elif num2>num1 :\n",
        "    print (num2, num1)\n",
        "  else:\n",
        "    print(\"두 숫자가 같습니다.\")\n",
        "    "
      ],
      "metadata": {
        "colab": {
          "base_uri": "https://localhost:8080/"
        },
        "id": "8QQ8jg2V_oUF",
        "outputId": "ec0c6346-0d46-44b5-96df-04f247a01152"
      },
      "execution_count": 38,
      "outputs": [
        {
          "output_type": "stream",
          "name": "stdout",
          "text": [
            "첫번째 숫자를 입력하십시오 : 50\n",
            "두번째 숫자를 입력하십시오 : 23\n",
            "50 23\n",
            "첫번째 숫자를 입력하십시오 : 5\n",
            "두번째 숫자를 입력하십시오 : 0\n",
            "5 0\n",
            "첫번째 숫자를 입력하십시오 : -1\n",
            "두번째 숫자를 입력하십시오 : 8\n",
            "8 -1\n",
            "첫번째 숫자를 입력하십시오 : 5\n",
            "두번째 숫자를 입력하십시오 : 5\n",
            "두 숫자가 같습니다.\n",
            "첫번째 숫자를 입력하십시오 : 0\n",
            "두번째 숫자를 입력하십시오 : 0\n",
            "숫자 입력을 더 이상 받지 않습니다.\n"
          ]
        }
      ]
    },
    {
      "cell_type": "markdown",
      "source": [
        "3. 10명의 학생 이름과 점수를 입력받아 등수를 계산하고, 출력 시에는 이름, 점수를 등수 순서대로 출력하는 프로그램을 작성하시오."
      ],
      "metadata": {
        "id": "sFrNSaD2BHpd"
      }
    },
    {
      "cell_type": "code",
      "source": [
        "students = []\n",
        "\n",
        "# 학생 정보 입력하기\n",
        "for i in range(10) :\n",
        "    name = input(\"학생 이름을 입력하세요 : \")\n",
        "    score = int(input(\"위 학생 점수를 입력하세요 : \"))\n",
        "    students.append((name,score))\n",
        "\n",
        "# 점수를 기준으로 정렬하기\n",
        "students.sort(key=lambda x:x[1], reverse=True)\n",
        "\n",
        "# 등수 매기기\n",
        "rank = 1\n",
        "for i in range(10) :\n",
        "    if i>0 and students[i][1] < students[i-1][1] :\n",
        "        rank += 1\n",
        "    print ((students[i][0], students[i][1]))"
      ],
      "metadata": {
        "colab": {
          "base_uri": "https://localhost:8080/"
        },
        "id": "aGoSaBN_FFr2",
        "outputId": "254d70dc-86ba-4c42-884a-87bca3e56b33"
      },
      "execution_count": 55,
      "outputs": [
        {
          "output_type": "stream",
          "name": "stdout",
          "text": [
            "학생 이름을 입력하세요 : 학생 1\n",
            "위 학생 점수를 입력하세요 : 100\n",
            "학생 이름을 입력하세요 : 학생 2\n",
            "위 학생 점수를 입력하세요 : 80\n",
            "학생 이름을 입력하세요 : 학생 3\n",
            "위 학생 점수를 입력하세요 : 90\n",
            "학생 이름을 입력하세요 : 학생 4\n",
            "위 학생 점수를 입력하세요 : 50\n",
            "학생 이름을 입력하세요 : 학생 5\n",
            "위 학생 점수를 입력하세요 : 60\n",
            "학생 이름을 입력하세요 : 학생 6\n",
            "위 학생 점수를 입력하세요 : 60\n",
            "학생 이름을 입력하세요 : 학생 7\n",
            "위 학생 점수를 입력하세요 : 85\n",
            "학생 이름을 입력하세요 : 학생 8\n",
            "위 학생 점수를 입력하세요 : 99\n",
            "학생 이름을 입력하세요 : 학생 9\n",
            "위 학생 점수를 입력하세요 : 88\n",
            "학생 이름을 입력하세요 : 학생 10\n",
            "위 학생 점수를 입력하세요 : 77\n",
            "('학생 1', 100)\n",
            "('학생 8', 99)\n",
            "('학생 3', 90)\n",
            "('학생 9', 88)\n",
            "('학생 7', 85)\n",
            "('학생 2', 80)\n",
            "('학생 10', 77)\n",
            "('학생 5', 60)\n",
            "('학생 6', 60)\n",
            "('학생 4', 50)\n"
          ]
        }
      ]
    }
  ]
}