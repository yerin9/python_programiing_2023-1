{
  "metadata": {
    "language_info": {
      "codemirror_mode": {
        "name": "python",
        "version": 3
      },
      "file_extension": ".py",
      "mimetype": "text/x-python",
      "name": "python",
      "nbconvert_exporter": "python",
      "pygments_lexer": "ipython3",
      "version": "3.8"
    },
    "kernelspec": {
      "name": "python",
      "display_name": "Python (Pyodide)",
      "language": "python"
    }
  },
  "nbformat_minor": 4,
  "nbformat": 4,
  "cells": [
    {
      "cell_type": "code",
      "source": "import numpy as np",
      "metadata": {
        "trusted": true
      },
      "execution_count": 1,
      "outputs": []
    },
    {
      "cell_type": "code",
      "source": "a = np.arange(6)",
      "metadata": {
        "trusted": true
      },
      "execution_count": 2,
      "outputs": []
    },
    {
      "cell_type": "code",
      "source": "a2 = a[np.newaxis, :]",
      "metadata": {
        "trusted": true
      },
      "execution_count": 3,
      "outputs": []
    },
    {
      "cell_type": "code",
      "source": "a2.shape",
      "metadata": {
        "trusted": true
      },
      "execution_count": 4,
      "outputs": [
        {
          "execution_count": 4,
          "output_type": "execute_result",
          "data": {
            "text/plain": "(1, 6)"
          },
          "metadata": {}
        }
      ]
    },
    {
      "cell_type": "code",
      "source": "a = np.array([1, 2, 3, 4, 5, 6])",
      "metadata": {
        "trusted": true
      },
      "execution_count": 5,
      "outputs": []
    },
    {
      "cell_type": "code",
      "source": "a = np.array([[1, 2, 3, 4], [5, 6, 7, 8], [9, 10, 11, 12]])",
      "metadata": {
        "trusted": true
      },
      "execution_count": 6,
      "outputs": []
    },
    {
      "cell_type": "code",
      "source": "print(a[0])",
      "metadata": {
        "trusted": true
      },
      "execution_count": 7,
      "outputs": [
        {
          "name": "stdout",
          "text": "[1 2 3 4]\n",
          "output_type": "stream"
        }
      ]
    },
    {
      "cell_type": "code",
      "source": "a = np.array([1, 2, 3])",
      "metadata": {
        "trusted": true
      },
      "execution_count": 8,
      "outputs": []
    },
    {
      "cell_type": "code",
      "source": "np.zeros(2)",
      "metadata": {
        "trusted": true
      },
      "execution_count": 9,
      "outputs": [
        {
          "execution_count": 9,
          "output_type": "execute_result",
          "data": {
            "text/plain": "array([0., 0.])"
          },
          "metadata": {}
        }
      ]
    },
    {
      "cell_type": "code",
      "source": "np.ones(2)",
      "metadata": {
        "trusted": true
      },
      "execution_count": 10,
      "outputs": [
        {
          "execution_count": 10,
          "output_type": "execute_result",
          "data": {
            "text/plain": "array([1., 1.])"
          },
          "metadata": {}
        }
      ]
    },
    {
      "cell_type": "code",
      "source": "np.empty(2) ",
      "metadata": {
        "trusted": true
      },
      "execution_count": 11,
      "outputs": [
        {
          "execution_count": 11,
          "output_type": "execute_result",
          "data": {
            "text/plain": "array([1., 1.])"
          },
          "metadata": {}
        }
      ]
    },
    {
      "cell_type": "code",
      "source": "np.arange(4)",
      "metadata": {
        "trusted": true
      },
      "execution_count": 12,
      "outputs": [
        {
          "execution_count": 12,
          "output_type": "execute_result",
          "data": {
            "text/plain": "array([0, 1, 2, 3])"
          },
          "metadata": {}
        }
      ]
    },
    {
      "cell_type": "code",
      "source": "np.arange(2, 9, 2)",
      "metadata": {
        "trusted": true
      },
      "execution_count": 13,
      "outputs": [
        {
          "execution_count": 13,
          "output_type": "execute_result",
          "data": {
            "text/plain": "array([2, 4, 6, 8])"
          },
          "metadata": {}
        }
      ]
    },
    {
      "cell_type": "code",
      "source": "np.linspace(0, 10, num=5)",
      "metadata": {
        "trusted": true
      },
      "execution_count": 14,
      "outputs": [
        {
          "execution_count": 14,
          "output_type": "execute_result",
          "data": {
            "text/plain": "array([ 0. ,  2.5,  5. ,  7.5, 10. ])"
          },
          "metadata": {}
        }
      ]
    },
    {
      "cell_type": "code",
      "source": "x = np.ones(2, dtype=np.int64)",
      "metadata": {
        "trusted": true
      },
      "execution_count": 15,
      "outputs": []
    },
    {
      "cell_type": "code",
      "source": "x",
      "metadata": {
        "trusted": true
      },
      "execution_count": 16,
      "outputs": [
        {
          "execution_count": 16,
          "output_type": "execute_result",
          "data": {
            "text/plain": "array([1, 1], dtype=int64)"
          },
          "metadata": {}
        }
      ]
    },
    {
      "cell_type": "code",
      "source": "arr = np.array([2, 1, 5, 3, 7, 4, 6, 8])",
      "metadata": {
        "trusted": true
      },
      "execution_count": 17,
      "outputs": []
    },
    {
      "cell_type": "code",
      "source": "np.sort(arr)",
      "metadata": {
        "trusted": true
      },
      "execution_count": 18,
      "outputs": [
        {
          "execution_count": 18,
          "output_type": "execute_result",
          "data": {
            "text/plain": "array([1, 2, 3, 4, 5, 6, 7, 8])"
          },
          "metadata": {}
        }
      ]
    },
    {
      "cell_type": "code",
      "source": "a = np.array([1, 2, 3, 4])",
      "metadata": {
        "trusted": true
      },
      "execution_count": 19,
      "outputs": []
    },
    {
      "cell_type": "code",
      "source": "b = np.array([5, 6, 7, 8])",
      "metadata": {
        "trusted": true
      },
      "execution_count": 20,
      "outputs": []
    },
    {
      "cell_type": "code",
      "source": "np.concatenate((a, b))",
      "metadata": {
        "trusted": true
      },
      "execution_count": 21,
      "outputs": [
        {
          "execution_count": 21,
          "output_type": "execute_result",
          "data": {
            "text/plain": "array([1, 2, 3, 4, 5, 6, 7, 8])"
          },
          "metadata": {}
        }
      ]
    },
    {
      "cell_type": "code",
      "source": "x = np.array([[1, 2], [3, 4]])",
      "metadata": {
        "trusted": true
      },
      "execution_count": 22,
      "outputs": []
    },
    {
      "cell_type": "code",
      "source": "y = np.array([[5, 6]])",
      "metadata": {
        "trusted": true
      },
      "execution_count": 23,
      "outputs": []
    },
    {
      "cell_type": "code",
      "source": "np.concatenate((x, y), axis=0)",
      "metadata": {
        "trusted": true
      },
      "execution_count": 24,
      "outputs": [
        {
          "execution_count": 24,
          "output_type": "execute_result",
          "data": {
            "text/plain": "array([[1, 2],\n       [3, 4],\n       [5, 6]])"
          },
          "metadata": {}
        }
      ]
    },
    {
      "cell_type": "code",
      "source": "array_example = np.array([[[0, 1, 2, 3],\n                           [4, 5, 6, 7]],\n\n                          [[0, 1, 2, 3],\n                           [4, 5, 6, 7]],\n\n                          [[0 ,1 ,2, 3],\n                           [4, 5, 6, 7]]])",
      "metadata": {
        "trusted": true
      },
      "execution_count": 25,
      "outputs": []
    },
    {
      "cell_type": "code",
      "source": "array_example.ndim",
      "metadata": {
        "trusted": true
      },
      "execution_count": 26,
      "outputs": [
        {
          "execution_count": 26,
          "output_type": "execute_result",
          "data": {
            "text/plain": "3"
          },
          "metadata": {}
        }
      ]
    },
    {
      "cell_type": "code",
      "source": "array_example.size",
      "metadata": {
        "trusted": true
      },
      "execution_count": 27,
      "outputs": [
        {
          "execution_count": 27,
          "output_type": "execute_result",
          "data": {
            "text/plain": "24"
          },
          "metadata": {}
        }
      ]
    },
    {
      "cell_type": "code",
      "source": "array_example.shape",
      "metadata": {
        "trusted": true
      },
      "execution_count": 28,
      "outputs": [
        {
          "execution_count": 28,
          "output_type": "execute_result",
          "data": {
            "text/plain": "(3, 2, 4)"
          },
          "metadata": {}
        }
      ]
    },
    {
      "cell_type": "code",
      "source": "a = np.arange(6)",
      "metadata": {
        "trusted": true
      },
      "execution_count": 29,
      "outputs": []
    },
    {
      "cell_type": "code",
      "source": "print(a)",
      "metadata": {
        "trusted": true
      },
      "execution_count": 30,
      "outputs": [
        {
          "name": "stdout",
          "text": "[0 1 2 3 4 5]\n",
          "output_type": "stream"
        }
      ]
    },
    {
      "cell_type": "code",
      "source": "b = a.reshape(3, 2)",
      "metadata": {
        "trusted": true
      },
      "execution_count": 31,
      "outputs": []
    },
    {
      "cell_type": "code",
      "source": "print(b)",
      "metadata": {
        "trusted": true
      },
      "execution_count": 32,
      "outputs": [
        {
          "name": "stdout",
          "text": "[[0 1]\n [2 3]\n [4 5]]\n",
          "output_type": "stream"
        }
      ]
    },
    {
      "cell_type": "code",
      "source": "np.reshape(a, newshape=(1, 6), order='C')",
      "metadata": {
        "trusted": true
      },
      "execution_count": 33,
      "outputs": [
        {
          "execution_count": 33,
          "output_type": "execute_result",
          "data": {
            "text/plain": "array([[0, 1, 2, 3, 4, 5]])"
          },
          "metadata": {}
        }
      ]
    },
    {
      "cell_type": "code",
      "source": "a = np.array([1, 2, 3, 4, 5, 6])",
      "metadata": {
        "trusted": true
      },
      "execution_count": 34,
      "outputs": []
    },
    {
      "cell_type": "code",
      "source": "a.shape",
      "metadata": {
        "trusted": true
      },
      "execution_count": 35,
      "outputs": [
        {
          "execution_count": 35,
          "output_type": "execute_result",
          "data": {
            "text/plain": "(6,)"
          },
          "metadata": {}
        }
      ]
    },
    {
      "cell_type": "code",
      "source": "a2 = a[np.newaxis, :]",
      "metadata": {
        "trusted": true
      },
      "execution_count": 36,
      "outputs": []
    },
    {
      "cell_type": "code",
      "source": "a2.shape",
      "metadata": {
        "trusted": true
      },
      "execution_count": 37,
      "outputs": [
        {
          "execution_count": 37,
          "output_type": "execute_result",
          "data": {
            "text/plain": "(1, 6)"
          },
          "metadata": {}
        }
      ]
    },
    {
      "cell_type": "code",
      "source": "row_vector = a[np.newaxis, :]",
      "metadata": {
        "trusted": true
      },
      "execution_count": 38,
      "outputs": []
    },
    {
      "cell_type": "code",
      "source": "row_vector.shape",
      "metadata": {
        "trusted": true
      },
      "execution_count": 39,
      "outputs": [
        {
          "execution_count": 39,
          "output_type": "execute_result",
          "data": {
            "text/plain": "(1, 6)"
          },
          "metadata": {}
        }
      ]
    },
    {
      "cell_type": "code",
      "source": "col_vector = a[:, np.newaxis]",
      "metadata": {
        "trusted": true
      },
      "execution_count": 40,
      "outputs": []
    },
    {
      "cell_type": "code",
      "source": "col_vector.shape",
      "metadata": {
        "trusted": true
      },
      "execution_count": 41,
      "outputs": [
        {
          "execution_count": 41,
          "output_type": "execute_result",
          "data": {
            "text/plain": "(6, 1)"
          },
          "metadata": {}
        }
      ]
    },
    {
      "cell_type": "code",
      "source": "a = np.array([1, 2, 3, 4, 5, 6])",
      "metadata": {
        "trusted": true
      },
      "execution_count": 42,
      "outputs": []
    },
    {
      "cell_type": "code",
      "source": "a.shape",
      "metadata": {
        "trusted": true
      },
      "execution_count": 43,
      "outputs": [
        {
          "execution_count": 43,
          "output_type": "execute_result",
          "data": {
            "text/plain": "(6,)"
          },
          "metadata": {}
        }
      ]
    },
    {
      "cell_type": "code",
      "source": "b = np.expand_dims(a, axis=1)",
      "metadata": {
        "trusted": true
      },
      "execution_count": 44,
      "outputs": []
    },
    {
      "cell_type": "code",
      "source": "b.shape",
      "metadata": {
        "trusted": true
      },
      "execution_count": 45,
      "outputs": [
        {
          "execution_count": 45,
          "output_type": "execute_result",
          "data": {
            "text/plain": "(6, 1)"
          },
          "metadata": {}
        }
      ]
    },
    {
      "cell_type": "code",
      "source": "c = np.expand_dims(a, axis=0)",
      "metadata": {
        "trusted": true
      },
      "execution_count": 46,
      "outputs": []
    },
    {
      "cell_type": "code",
      "source": "c.shape",
      "metadata": {
        "trusted": true
      },
      "execution_count": 47,
      "outputs": [
        {
          "execution_count": 47,
          "output_type": "execute_result",
          "data": {
            "text/plain": "(1, 6)"
          },
          "metadata": {}
        }
      ]
    },
    {
      "cell_type": "code",
      "source": "data = np.array([1, 2, 3])",
      "metadata": {
        "trusted": true
      },
      "execution_count": 48,
      "outputs": []
    },
    {
      "cell_type": "code",
      "source": "data[1]",
      "metadata": {
        "trusted": true
      },
      "execution_count": 49,
      "outputs": [
        {
          "execution_count": 49,
          "output_type": "execute_result",
          "data": {
            "text/plain": "2"
          },
          "metadata": {}
        }
      ]
    },
    {
      "cell_type": "code",
      "source": "data[0:2]",
      "metadata": {
        "trusted": true
      },
      "execution_count": 50,
      "outputs": [
        {
          "execution_count": 50,
          "output_type": "execute_result",
          "data": {
            "text/plain": "array([1, 2])"
          },
          "metadata": {}
        }
      ]
    },
    {
      "cell_type": "code",
      "source": "data[1:]",
      "metadata": {
        "trusted": true
      },
      "execution_count": 51,
      "outputs": [
        {
          "execution_count": 51,
          "output_type": "execute_result",
          "data": {
            "text/plain": "array([2, 3])"
          },
          "metadata": {}
        }
      ]
    },
    {
      "cell_type": "code",
      "source": "data[-2:]",
      "metadata": {
        "trusted": true
      },
      "execution_count": 52,
      "outputs": [
        {
          "execution_count": 52,
          "output_type": "execute_result",
          "data": {
            "text/plain": "array([2, 3])"
          },
          "metadata": {}
        }
      ]
    },
    {
      "cell_type": "code",
      "source": "a = np.array([[1 , 2, 3, 4], [5, 6, 7, 8], [9, 10, 11, 12]])",
      "metadata": {
        "trusted": true
      },
      "execution_count": 53,
      "outputs": []
    },
    {
      "cell_type": "code",
      "source": "print(a[a < 5])",
      "metadata": {
        "trusted": true
      },
      "execution_count": 54,
      "outputs": [
        {
          "name": "stdout",
          "text": "[1 2 3 4]\n",
          "output_type": "stream"
        }
      ]
    },
    {
      "cell_type": "code",
      "source": "five_up = (a >= 5)",
      "metadata": {
        "trusted": true
      },
      "execution_count": 55,
      "outputs": []
    },
    {
      "cell_type": "code",
      "source": "print(a[five_up])",
      "metadata": {
        "trusted": true
      },
      "execution_count": 56,
      "outputs": [
        {
          "name": "stdout",
          "text": "[ 5  6  7  8  9 10 11 12]\n",
          "output_type": "stream"
        }
      ]
    },
    {
      "cell_type": "code",
      "source": "divisible_by_2 = a[a%2==0]",
      "metadata": {
        "trusted": true
      },
      "execution_count": 57,
      "outputs": []
    },
    {
      "cell_type": "code",
      "source": "print(divisible_by_2)",
      "metadata": {
        "trusted": true
      },
      "execution_count": 58,
      "outputs": [
        {
          "name": "stdout",
          "text": "[ 2  4  6  8 10 12]\n",
          "output_type": "stream"
        }
      ]
    },
    {
      "cell_type": "code",
      "source": "c = a[(a > 2) & (a < 11)]",
      "metadata": {
        "trusted": true
      },
      "execution_count": 59,
      "outputs": []
    },
    {
      "cell_type": "code",
      "source": "print(c)",
      "metadata": {
        "trusted": true
      },
      "execution_count": 60,
      "outputs": [
        {
          "name": "stdout",
          "text": "[ 3  4  5  6  7  8  9 10]\n",
          "output_type": "stream"
        }
      ]
    },
    {
      "cell_type": "code",
      "source": "five_up = (a > 5) | (a == 5)",
      "metadata": {
        "trusted": true
      },
      "execution_count": 61,
      "outputs": []
    },
    {
      "cell_type": "code",
      "source": "print(five_up)",
      "metadata": {
        "trusted": true
      },
      "execution_count": 64,
      "outputs": [
        {
          "name": "stdout",
          "text": "[[False False False False]\n [ True  True  True  True]\n [ True  True  True  True]]\n",
          "output_type": "stream"
        }
      ]
    },
    {
      "cell_type": "code",
      "source": "a = np.array([[1, 2, 3, 4], [5, 6, 7, 8], [9, 10, 11, 12]])",
      "metadata": {
        "trusted": true
      },
      "execution_count": 65,
      "outputs": []
    },
    {
      "cell_type": "code",
      "source": "b = np.nonzero(a < 5)",
      "metadata": {
        "trusted": true
      },
      "execution_count": 66,
      "outputs": []
    },
    {
      "cell_type": "code",
      "source": "print(b)",
      "metadata": {
        "trusted": true
      },
      "execution_count": 67,
      "outputs": [
        {
          "name": "stdout",
          "text": "(array([0, 0, 0, 0], dtype=int32), array([0, 1, 2, 3], dtype=int32))\n",
          "output_type": "stream"
        }
      ]
    },
    {
      "cell_type": "code",
      "source": "list_of_coordinates= list(zip(b[0], b[1]))",
      "metadata": {
        "trusted": true
      },
      "execution_count": 68,
      "outputs": []
    },
    {
      "cell_type": "code",
      "source": "for coord in list_of_coordinates:\n    print(coord)",
      "metadata": {
        "trusted": true
      },
      "execution_count": 70,
      "outputs": [
        {
          "name": "stdout",
          "text": "(0, 0)\n(0, 1)\n(0, 2)\n(0, 3)\n",
          "output_type": "stream"
        }
      ]
    },
    {
      "cell_type": "code",
      "source": "print(a[b])",
      "metadata": {
        "trusted": true
      },
      "execution_count": 71,
      "outputs": [
        {
          "name": "stdout",
          "text": "[1 2 3 4]\n",
          "output_type": "stream"
        }
      ]
    },
    {
      "cell_type": "code",
      "source": "a = np.array([1,  2,  3,  4,  5,  6,  7,  8,  9, 10])",
      "metadata": {
        "trusted": true
      },
      "execution_count": 72,
      "outputs": []
    },
    {
      "cell_type": "code",
      "source": "arr1 = a[3:8]",
      "metadata": {
        "trusted": true
      },
      "execution_count": 73,
      "outputs": []
    },
    {
      "cell_type": "code",
      "source": "arr1",
      "metadata": {
        "trusted": true
      },
      "execution_count": 74,
      "outputs": [
        {
          "execution_count": 74,
          "output_type": "execute_result",
          "data": {
            "text/plain": "array([4, 5, 6, 7, 8])"
          },
          "metadata": {}
        }
      ]
    },
    {
      "cell_type": "code",
      "source": "a1 = np.array([[1, 1],\n               [2, 2]])",
      "metadata": {
        "trusted": true
      },
      "execution_count": 75,
      "outputs": []
    },
    {
      "cell_type": "code",
      "source": "a2 = np.array([[3, 3],\n               [4, 4]])",
      "metadata": {
        "trusted": true
      },
      "execution_count": 76,
      "outputs": []
    },
    {
      "cell_type": "code",
      "source": "np.vstack((a1, a2))",
      "metadata": {
        "trusted": true
      },
      "execution_count": 77,
      "outputs": [
        {
          "execution_count": 77,
          "output_type": "execute_result",
          "data": {
            "text/plain": "array([[1, 1],\n       [2, 2],\n       [3, 3],\n       [4, 4]])"
          },
          "metadata": {}
        }
      ]
    },
    {
      "cell_type": "code",
      "source": "np.hstack((a1, a2))",
      "metadata": {
        "trusted": true
      },
      "execution_count": 78,
      "outputs": [
        {
          "execution_count": 78,
          "output_type": "execute_result",
          "data": {
            "text/plain": "array([[1, 1, 3, 3],\n       [2, 2, 4, 4]])"
          },
          "metadata": {}
        }
      ]
    },
    {
      "cell_type": "code",
      "source": "x = np.arange(1, 25).reshape(2, 12)",
      "metadata": {
        "trusted": true
      },
      "execution_count": 79,
      "outputs": []
    },
    {
      "cell_type": "code",
      "source": "x",
      "metadata": {
        "trusted": true
      },
      "execution_count": 80,
      "outputs": [
        {
          "execution_count": 80,
          "output_type": "execute_result",
          "data": {
            "text/plain": "array([[ 1,  2,  3,  4,  5,  6,  7,  8,  9, 10, 11, 12],\n       [13, 14, 15, 16, 17, 18, 19, 20, 21, 22, 23, 24]])"
          },
          "metadata": {}
        }
      ]
    },
    {
      "cell_type": "code",
      "source": "np.hsplit(x, 3)",
      "metadata": {
        "trusted": true
      },
      "execution_count": 81,
      "outputs": [
        {
          "execution_count": 81,
          "output_type": "execute_result",
          "data": {
            "text/plain": "[array([[ 1,  2,  3,  4],\n        [13, 14, 15, 16]]),\n array([[ 5,  6,  7,  8],\n        [17, 18, 19, 20]]),\n array([[ 9, 10, 11, 12],\n        [21, 22, 23, 24]])]"
          },
          "metadata": {}
        }
      ]
    },
    {
      "cell_type": "code",
      "source": "np.hsplit(x, (3, 4))",
      "metadata": {
        "trusted": true
      },
      "execution_count": 82,
      "outputs": [
        {
          "execution_count": 82,
          "output_type": "execute_result",
          "data": {
            "text/plain": "[array([[ 1,  2,  3],\n        [13, 14, 15]]),\n array([[ 4],\n        [16]]),\n array([[ 5,  6,  7,  8,  9, 10, 11, 12],\n        [17, 18, 19, 20, 21, 22, 23, 24]])]"
          },
          "metadata": {}
        }
      ]
    },
    {
      "cell_type": "code",
      "source": "a = np.array([[1, 2, 3, 4], [5, 6, 7, 8], [9, 10, 11, 12]])",
      "metadata": {
        "trusted": true
      },
      "execution_count": 121,
      "outputs": []
    },
    {
      "cell_type": "code",
      "source": "b1 = a[0, :]",
      "metadata": {
        "trusted": true
      },
      "execution_count": 122,
      "outputs": []
    },
    {
      "cell_type": "code",
      "source": "b1",
      "metadata": {
        "trusted": true
      },
      "execution_count": 123,
      "outputs": [
        {
          "execution_count": 123,
          "output_type": "execute_result",
          "data": {
            "text/plain": "array([1, 2, 3, 4])"
          },
          "metadata": {}
        }
      ]
    },
    {
      "cell_type": "code",
      "source": "b1[0] = 99",
      "metadata": {
        "trusted": true
      },
      "execution_count": 124,
      "outputs": []
    },
    {
      "cell_type": "code",
      "source": "b1",
      "metadata": {
        "trusted": true
      },
      "execution_count": 125,
      "outputs": [
        {
          "execution_count": 125,
          "output_type": "execute_result",
          "data": {
            "text/plain": "array([99,  2,  3,  4])"
          },
          "metadata": {}
        }
      ]
    },
    {
      "cell_type": "code",
      "source": "a",
      "metadata": {
        "trusted": true
      },
      "execution_count": 126,
      "outputs": [
        {
          "execution_count": 126,
          "output_type": "execute_result",
          "data": {
            "text/plain": "array([[99,  2,  3,  4],\n       [ 5,  6,  7,  8],\n       [ 9, 10, 11, 12]])"
          },
          "metadata": {}
        }
      ]
    },
    {
      "cell_type": "code",
      "source": "a = np.array([[1, 2, 3, 4], [5, 6, 7, 8], [9, 10, 11, 12]])",
      "metadata": {
        "trusted": true
      },
      "execution_count": 127,
      "outputs": []
    },
    {
      "cell_type": "code",
      "source": "b2= a[0, :].copy()",
      "metadata": {
        "trusted": true
      },
      "execution_count": 128,
      "outputs": []
    },
    {
      "cell_type": "code",
      "source": "b2[0] = 99",
      "metadata": {
        "trusted": true
      },
      "execution_count": 129,
      "outputs": []
    },
    {
      "cell_type": "code",
      "source": "b2",
      "metadata": {
        "trusted": true
      },
      "execution_count": 130,
      "outputs": [
        {
          "execution_count": 130,
          "output_type": "execute_result",
          "data": {
            "text/plain": "array([99,  2,  3,  4])"
          },
          "metadata": {}
        }
      ]
    },
    {
      "cell_type": "code",
      "source": "a",
      "metadata": {
        "trusted": true
      },
      "execution_count": 131,
      "outputs": [
        {
          "execution_count": 131,
          "output_type": "execute_result",
          "data": {
            "text/plain": "array([[ 1,  2,  3,  4],\n       [ 5,  6,  7,  8],\n       [ 9, 10, 11, 12]])"
          },
          "metadata": {}
        }
      ]
    },
    {
      "cell_type": "code",
      "source": "data = np.array([1, 2])",
      "metadata": {
        "trusted": true
      },
      "execution_count": 132,
      "outputs": []
    },
    {
      "cell_type": "code",
      "source": "ones = np.ones(2, dtype=int)",
      "metadata": {
        "trusted": true
      },
      "execution_count": 133,
      "outputs": []
    },
    {
      "cell_type": "code",
      "source": "data + ones",
      "metadata": {
        "trusted": true
      },
      "execution_count": 134,
      "outputs": [
        {
          "execution_count": 134,
          "output_type": "execute_result",
          "data": {
            "text/plain": "array([2, 3])"
          },
          "metadata": {}
        }
      ]
    },
    {
      "cell_type": "code",
      "source": "data - ones",
      "metadata": {
        "trusted": true
      },
      "execution_count": 135,
      "outputs": [
        {
          "execution_count": 135,
          "output_type": "execute_result",
          "data": {
            "text/plain": "array([0, 1])"
          },
          "metadata": {}
        }
      ]
    },
    {
      "cell_type": "code",
      "source": "data * data",
      "metadata": {
        "trusted": true
      },
      "execution_count": 136,
      "outputs": [
        {
          "execution_count": 136,
          "output_type": "execute_result",
          "data": {
            "text/plain": "array([1, 4])"
          },
          "metadata": {}
        }
      ]
    },
    {
      "cell_type": "code",
      "source": "data / data",
      "metadata": {
        "trusted": true
      },
      "execution_count": 137,
      "outputs": [
        {
          "execution_count": 137,
          "output_type": "execute_result",
          "data": {
            "text/plain": "array([1., 1.])"
          },
          "metadata": {}
        }
      ]
    },
    {
      "cell_type": "code",
      "source": "a = np.array([1, 2, 3, 4])",
      "metadata": {
        "trusted": true
      },
      "execution_count": 138,
      "outputs": []
    },
    {
      "cell_type": "code",
      "source": "a.sum()",
      "metadata": {
        "trusted": true
      },
      "execution_count": 139,
      "outputs": [
        {
          "execution_count": 139,
          "output_type": "execute_result",
          "data": {
            "text/plain": "10"
          },
          "metadata": {}
        }
      ]
    },
    {
      "cell_type": "code",
      "source": "b = np.array([[1, 1], [2, 2]])",
      "metadata": {
        "trusted": true
      },
      "execution_count": 140,
      "outputs": []
    },
    {
      "cell_type": "code",
      "source": "b.sum(axis=0)",
      "metadata": {
        "trusted": true
      },
      "execution_count": 141,
      "outputs": [
        {
          "execution_count": 141,
          "output_type": "execute_result",
          "data": {
            "text/plain": "array([3, 3])"
          },
          "metadata": {}
        }
      ]
    },
    {
      "cell_type": "code",
      "source": "b.sum(axis=1)",
      "metadata": {
        "trusted": true
      },
      "execution_count": 142,
      "outputs": [
        {
          "execution_count": 142,
          "output_type": "execute_result",
          "data": {
            "text/plain": "array([2, 4])"
          },
          "metadata": {}
        }
      ]
    },
    {
      "cell_type": "code",
      "source": "data = np.array([1.0, 2.0])",
      "metadata": {
        "trusted": true
      },
      "execution_count": 143,
      "outputs": []
    },
    {
      "cell_type": "code",
      "source": "data * 1.6",
      "metadata": {
        "trusted": true
      },
      "execution_count": 144,
      "outputs": [
        {
          "execution_count": 144,
          "output_type": "execute_result",
          "data": {
            "text/plain": "array([1.6, 3.2])"
          },
          "metadata": {}
        }
      ]
    },
    {
      "cell_type": "code",
      "source": "data.max()",
      "metadata": {
        "trusted": true
      },
      "execution_count": 145,
      "outputs": [
        {
          "execution_count": 145,
          "output_type": "execute_result",
          "data": {
            "text/plain": "2.0"
          },
          "metadata": {}
        }
      ]
    },
    {
      "cell_type": "code",
      "source": "data.min()",
      "metadata": {
        "trusted": true
      },
      "execution_count": 146,
      "outputs": [
        {
          "execution_count": 146,
          "output_type": "execute_result",
          "data": {
            "text/plain": "1.0"
          },
          "metadata": {}
        }
      ]
    },
    {
      "cell_type": "code",
      "source": "data.sum()",
      "metadata": {
        "trusted": true
      },
      "execution_count": 147,
      "outputs": [
        {
          "execution_count": 147,
          "output_type": "execute_result",
          "data": {
            "text/plain": "3.0"
          },
          "metadata": {}
        }
      ]
    },
    {
      "cell_type": "code",
      "source": "a = np.array([[0.45053314, 0.17296777, 0.34376245, 0.5510652],\n              [0.54627315, 0.05093587, 0.40067661, 0.55645993],\n              [0.12697628, 0.82485143, 0.26590556, 0.56917101]])",
      "metadata": {
        "trusted": true
      },
      "execution_count": 148,
      "outputs": []
    },
    {
      "cell_type": "code",
      "source": "a.sum()",
      "metadata": {
        "trusted": true
      },
      "execution_count": 149,
      "outputs": [
        {
          "execution_count": 149,
          "output_type": "execute_result",
          "data": {
            "text/plain": "4.8595784"
          },
          "metadata": {}
        }
      ]
    },
    {
      "cell_type": "code",
      "source": "a.min()",
      "metadata": {
        "trusted": true
      },
      "execution_count": 150,
      "outputs": [
        {
          "execution_count": 150,
          "output_type": "execute_result",
          "data": {
            "text/plain": "0.05093587"
          },
          "metadata": {}
        }
      ]
    },
    {
      "cell_type": "code",
      "source": "a.min(axis=0)",
      "metadata": {
        "trusted": true
      },
      "execution_count": 151,
      "outputs": [
        {
          "execution_count": 151,
          "output_type": "execute_result",
          "data": {
            "text/plain": "array([0.12697628, 0.05093587, 0.26590556, 0.5510652 ])"
          },
          "metadata": {}
        }
      ]
    },
    {
      "cell_type": "code",
      "source": "data = np.array([[1, 2], [3, 4], [5, 6]])",
      "metadata": {
        "trusted": true
      },
      "execution_count": 152,
      "outputs": []
    },
    {
      "cell_type": "code",
      "source": "data",
      "metadata": {
        "trusted": true
      },
      "execution_count": 153,
      "outputs": [
        {
          "execution_count": 153,
          "output_type": "execute_result",
          "data": {
            "text/plain": "array([[1, 2],\n       [3, 4],\n       [5, 6]])"
          },
          "metadata": {}
        }
      ]
    },
    {
      "cell_type": "code",
      "source": "data[0, 1]",
      "metadata": {
        "trusted": true
      },
      "execution_count": 154,
      "outputs": [
        {
          "execution_count": 154,
          "output_type": "execute_result",
          "data": {
            "text/plain": "2"
          },
          "metadata": {}
        }
      ]
    },
    {
      "cell_type": "code",
      "source": "data[1:3]",
      "metadata": {
        "trusted": true
      },
      "execution_count": 155,
      "outputs": [
        {
          "execution_count": 155,
          "output_type": "execute_result",
          "data": {
            "text/plain": "array([[3, 4],\n       [5, 6]])"
          },
          "metadata": {}
        }
      ]
    },
    {
      "cell_type": "code",
      "source": "data[0:2, 0]",
      "metadata": {
        "trusted": true
      },
      "execution_count": 156,
      "outputs": [
        {
          "execution_count": 156,
          "output_type": "execute_result",
          "data": {
            "text/plain": "array([1, 3])"
          },
          "metadata": {}
        }
      ]
    },
    {
      "cell_type": "code",
      "source": "data.max()",
      "metadata": {
        "trusted": true
      },
      "execution_count": 157,
      "outputs": [
        {
          "execution_count": 157,
          "output_type": "execute_result",
          "data": {
            "text/plain": "6"
          },
          "metadata": {}
        }
      ]
    },
    {
      "cell_type": "code",
      "source": "data.min()",
      "metadata": {
        "trusted": true
      },
      "execution_count": 158,
      "outputs": [
        {
          "execution_count": 158,
          "output_type": "execute_result",
          "data": {
            "text/plain": "1"
          },
          "metadata": {}
        }
      ]
    },
    {
      "cell_type": "code",
      "source": "data.sum()",
      "metadata": {
        "trusted": true
      },
      "execution_count": 159,
      "outputs": [
        {
          "execution_count": 159,
          "output_type": "execute_result",
          "data": {
            "text/plain": "21"
          },
          "metadata": {}
        }
      ]
    },
    {
      "cell_type": "code",
      "source": "data = np.array([[1, 2], [5, 3], [4, 6]])",
      "metadata": {
        "trusted": true
      },
      "execution_count": 160,
      "outputs": []
    },
    {
      "cell_type": "code",
      "source": "data",
      "metadata": {
        "trusted": true
      },
      "execution_count": 161,
      "outputs": [
        {
          "execution_count": 161,
          "output_type": "execute_result",
          "data": {
            "text/plain": "array([[1, 2],\n       [5, 3],\n       [4, 6]])"
          },
          "metadata": {}
        }
      ]
    },
    {
      "cell_type": "code",
      "source": "data.max(axis=0)",
      "metadata": {
        "trusted": true
      },
      "execution_count": 162,
      "outputs": [
        {
          "execution_count": 162,
          "output_type": "execute_result",
          "data": {
            "text/plain": "array([5, 6])"
          },
          "metadata": {}
        }
      ]
    },
    {
      "cell_type": "code",
      "source": "data.max(axis=1)",
      "metadata": {
        "trusted": true
      },
      "execution_count": 163,
      "outputs": [
        {
          "execution_count": 163,
          "output_type": "execute_result",
          "data": {
            "text/plain": "array([2, 5, 6])"
          },
          "metadata": {}
        }
      ]
    },
    {
      "cell_type": "code",
      "source": "data = np.array([[1, 2], [3, 4]])",
      "metadata": {
        "trusted": true
      },
      "execution_count": 164,
      "outputs": []
    },
    {
      "cell_type": "code",
      "source": "ones = np.array([[1, 1], [1, 1]])",
      "metadata": {
        "trusted": true
      },
      "execution_count": 165,
      "outputs": []
    },
    {
      "cell_type": "code",
      "source": "data + ones",
      "metadata": {
        "trusted": true
      },
      "execution_count": 166,
      "outputs": [
        {
          "execution_count": 166,
          "output_type": "execute_result",
          "data": {
            "text/plain": "array([[2, 3],\n       [4, 5]])"
          },
          "metadata": {}
        }
      ]
    },
    {
      "cell_type": "code",
      "source": "data = np.array([[1, 2], [3, 4], [5, 6]])",
      "metadata": {
        "trusted": true
      },
      "execution_count": 167,
      "outputs": []
    },
    {
      "cell_type": "code",
      "source": "ones_row = np.array([[1, 1]])",
      "metadata": {
        "trusted": true
      },
      "execution_count": 168,
      "outputs": []
    },
    {
      "cell_type": "code",
      "source": "data + ones_row",
      "metadata": {
        "trusted": true
      },
      "execution_count": 169,
      "outputs": [
        {
          "execution_count": 169,
          "output_type": "execute_result",
          "data": {
            "text/plain": "array([[2, 3],\n       [4, 5],\n       [6, 7]])"
          },
          "metadata": {}
        }
      ]
    },
    {
      "cell_type": "code",
      "source": "np.ones((4, 3, 2))",
      "metadata": {
        "trusted": true
      },
      "execution_count": 170,
      "outputs": [
        {
          "execution_count": 170,
          "output_type": "execute_result",
          "data": {
            "text/plain": "array([[[1., 1.],\n        [1., 1.],\n        [1., 1.]],\n\n       [[1., 1.],\n        [1., 1.],\n        [1., 1.]],\n\n       [[1., 1.],\n        [1., 1.],\n        [1., 1.]],\n\n       [[1., 1.],\n        [1., 1.],\n        [1., 1.]]])"
          },
          "metadata": {}
        }
      ]
    },
    {
      "cell_type": "code",
      "source": "np.ones(3)",
      "metadata": {
        "trusted": true
      },
      "execution_count": 171,
      "outputs": [
        {
          "execution_count": 171,
          "output_type": "execute_result",
          "data": {
            "text/plain": "array([1., 1., 1.])"
          },
          "metadata": {}
        }
      ]
    },
    {
      "cell_type": "code",
      "source": "np.zeros(3)",
      "metadata": {
        "trusted": true
      },
      "execution_count": 172,
      "outputs": [
        {
          "execution_count": 172,
          "output_type": "execute_result",
          "data": {
            "text/plain": "array([0., 0., 0.])"
          },
          "metadata": {}
        }
      ]
    },
    {
      "cell_type": "code",
      "source": "rng = np.random.default_rng()  # the simplest way to generate random numbers",
      "metadata": {
        "trusted": true
      },
      "execution_count": 173,
      "outputs": []
    },
    {
      "cell_type": "code",
      "source": "rng.random(3) ",
      "metadata": {
        "trusted": true
      },
      "execution_count": 174,
      "outputs": [
        {
          "execution_count": 174,
          "output_type": "execute_result",
          "data": {
            "text/plain": "array([0.28050899, 0.28129457, 0.19967439])"
          },
          "metadata": {}
        }
      ]
    },
    {
      "cell_type": "code",
      "source": "np.ones((3, 2))",
      "metadata": {
        "trusted": true
      },
      "execution_count": 175,
      "outputs": [
        {
          "execution_count": 175,
          "output_type": "execute_result",
          "data": {
            "text/plain": "array([[1., 1.],\n       [1., 1.],\n       [1., 1.]])"
          },
          "metadata": {}
        }
      ]
    },
    {
      "cell_type": "code",
      "source": "np.zeros((3, 2))",
      "metadata": {
        "trusted": true
      },
      "execution_count": 176,
      "outputs": [
        {
          "execution_count": 176,
          "output_type": "execute_result",
          "data": {
            "text/plain": "array([[0., 0.],\n       [0., 0.],\n       [0., 0.]])"
          },
          "metadata": {}
        }
      ]
    },
    {
      "cell_type": "code",
      "source": "rng.random((3, 2)) ",
      "metadata": {
        "trusted": true
      },
      "execution_count": 177,
      "outputs": [
        {
          "execution_count": 177,
          "output_type": "execute_result",
          "data": {
            "text/plain": "array([[0.09017072, 0.03916971],\n       [0.54718355, 0.91287165],\n       [0.67260499, 0.50176596]])"
          },
          "metadata": {}
        }
      ]
    },
    {
      "cell_type": "code",
      "source": "rng.integers(5, size=(2, 4)) ",
      "metadata": {
        "trusted": true
      },
      "execution_count": 178,
      "outputs": [
        {
          "execution_count": 178,
          "output_type": "execute_result",
          "data": {
            "text/plain": "array([[0, 0, 1, 0],\n       [1, 3, 3, 1]], dtype=int64)"
          },
          "metadata": {}
        }
      ]
    },
    {
      "cell_type": "code",
      "source": "a = np.array([11, 11, 12, 13, 14, 15, 16, 17, 12, 13, 11, 14, 18, 19, 20])",
      "metadata": {
        "trusted": true
      },
      "execution_count": 179,
      "outputs": []
    },
    {
      "cell_type": "code",
      "source": "unique_values = np.unique(a)",
      "metadata": {
        "trusted": true
      },
      "execution_count": 180,
      "outputs": []
    },
    {
      "cell_type": "code",
      "source": "print(unique_values)",
      "metadata": {
        "trusted": true
      },
      "execution_count": 181,
      "outputs": [
        {
          "name": "stdout",
          "text": "[11 12 13 14 15 16 17 18 19 20]\n",
          "output_type": "stream"
        }
      ]
    },
    {
      "cell_type": "code",
      "source": "unique_values, indices_list = np.unique(a, return_index=True)",
      "metadata": {
        "trusted": true
      },
      "execution_count": 182,
      "outputs": []
    },
    {
      "cell_type": "code",
      "source": "print(indices_list)",
      "metadata": {
        "trusted": true
      },
      "execution_count": 183,
      "outputs": [
        {
          "name": "stdout",
          "text": "[ 0  2  3  4  5  6  7 12 13 14]\n",
          "output_type": "stream"
        }
      ]
    },
    {
      "cell_type": "code",
      "source": "unique_values, occurrence_count = np.unique(a, return_counts=True)",
      "metadata": {
        "trusted": true
      },
      "execution_count": 184,
      "outputs": []
    },
    {
      "cell_type": "code",
      "source": "print(occurrence_count)",
      "metadata": {
        "trusted": true
      },
      "execution_count": 185,
      "outputs": [
        {
          "name": "stdout",
          "text": "[3 2 2 2 1 1 1 1 1 1]\n",
          "output_type": "stream"
        }
      ]
    },
    {
      "cell_type": "code",
      "source": "a_2d = np.array([[1, 2, 3, 4], [5, 6, 7, 8], [9, 10, 11, 12], [1, 2, 3, 4]])",
      "metadata": {
        "trusted": true
      },
      "execution_count": 186,
      "outputs": []
    },
    {
      "cell_type": "code",
      "source": "unique_values = np.unique(a_2d)",
      "metadata": {
        "trusted": true
      },
      "execution_count": 187,
      "outputs": []
    },
    {
      "cell_type": "code",
      "source": "print(unique_values)",
      "metadata": {
        "trusted": true
      },
      "execution_count": 188,
      "outputs": [
        {
          "name": "stdout",
          "text": "[ 1  2  3  4  5  6  7  8  9 10 11 12]\n",
          "output_type": "stream"
        }
      ]
    },
    {
      "cell_type": "code",
      "source": "unique_rows = np.unique(a_2d, axis=0)",
      "metadata": {
        "trusted": true
      },
      "execution_count": 189,
      "outputs": []
    },
    {
      "cell_type": "code",
      "source": "print(unique_rows)",
      "metadata": {
        "trusted": true
      },
      "execution_count": 190,
      "outputs": [
        {
          "name": "stdout",
          "text": "[[ 1  2  3  4]\n [ 5  6  7  8]\n [ 9 10 11 12]]\n",
          "output_type": "stream"
        }
      ]
    },
    {
      "cell_type": "code",
      "source": "unique_rows, indices, occurrence_count = np.unique(\n     a_2d, axis=0, return_counts=True, return_index=True)",
      "metadata": {
        "trusted": true
      },
      "execution_count": 191,
      "outputs": []
    },
    {
      "cell_type": "code",
      "source": "print(unique_rows)",
      "metadata": {
        "trusted": true
      },
      "execution_count": 192,
      "outputs": [
        {
          "name": "stdout",
          "text": "[[ 1  2  3  4]\n [ 5  6  7  8]\n [ 9 10 11 12]]\n",
          "output_type": "stream"
        }
      ]
    },
    {
      "cell_type": "code",
      "source": "print(indices)",
      "metadata": {
        "trusted": true
      },
      "execution_count": 193,
      "outputs": [
        {
          "name": "stdout",
          "text": "[0 1 2]\n",
          "output_type": "stream"
        }
      ]
    },
    {
      "cell_type": "code",
      "source": "print(occurrence_count)",
      "metadata": {
        "trusted": true
      },
      "execution_count": 194,
      "outputs": [
        {
          "name": "stdout",
          "text": "[2 1 1]\n",
          "output_type": "stream"
        }
      ]
    },
    {
      "cell_type": "code",
      "source": "data.reshape(2, 3)",
      "metadata": {
        "trusted": true
      },
      "execution_count": 195,
      "outputs": [
        {
          "execution_count": 195,
          "output_type": "execute_result",
          "data": {
            "text/plain": "array([[1, 2, 3],\n       [4, 5, 6]])"
          },
          "metadata": {}
        }
      ]
    },
    {
      "cell_type": "code",
      "source": "data.reshape(3, 2)",
      "metadata": {
        "trusted": true
      },
      "execution_count": 196,
      "outputs": [
        {
          "execution_count": 196,
          "output_type": "execute_result",
          "data": {
            "text/plain": "array([[1, 2],\n       [3, 4],\n       [5, 6]])"
          },
          "metadata": {}
        }
      ]
    },
    {
      "cell_type": "code",
      "source": "arr = np.arange(6).reshape((2, 3))",
      "metadata": {
        "trusted": true
      },
      "execution_count": 197,
      "outputs": []
    },
    {
      "cell_type": "code",
      "source": "arr",
      "metadata": {
        "trusted": true
      },
      "execution_count": 198,
      "outputs": [
        {
          "execution_count": 198,
          "output_type": "execute_result",
          "data": {
            "text/plain": "array([[0, 1, 2],\n       [3, 4, 5]])"
          },
          "metadata": {}
        }
      ]
    },
    {
      "cell_type": "code",
      "source": "arr.transpose()",
      "metadata": {
        "trusted": true
      },
      "execution_count": 199,
      "outputs": [
        {
          "execution_count": 199,
          "output_type": "execute_result",
          "data": {
            "text/plain": "array([[0, 3],\n       [1, 4],\n       [2, 5]])"
          },
          "metadata": {}
        }
      ]
    },
    {
      "cell_type": "code",
      "source": "arr.T",
      "metadata": {
        "trusted": true
      },
      "execution_count": 200,
      "outputs": [
        {
          "execution_count": 200,
          "output_type": "execute_result",
          "data": {
            "text/plain": "array([[0, 3],\n       [1, 4],\n       [2, 5]])"
          },
          "metadata": {}
        }
      ]
    },
    {
      "cell_type": "code",
      "source": "arr = np.array([1, 2, 3, 4, 5, 6, 7, 8])",
      "metadata": {
        "trusted": true
      },
      "execution_count": 201,
      "outputs": []
    },
    {
      "cell_type": "code",
      "source": "reversed_arr = np.flip(arr)",
      "metadata": {
        "trusted": true
      },
      "execution_count": 202,
      "outputs": []
    },
    {
      "cell_type": "code",
      "source": "print('Reversed Array: ', reversed_arr)",
      "metadata": {
        "trusted": true
      },
      "execution_count": 203,
      "outputs": [
        {
          "name": "stdout",
          "text": "Reversed Array:  [8 7 6 5 4 3 2 1]\n",
          "output_type": "stream"
        }
      ]
    },
    {
      "cell_type": "code",
      "source": "arr_2d = np.array([[1, 2, 3, 4], [5, 6, 7, 8], [9, 10, 11, 12]])",
      "metadata": {
        "trusted": true
      },
      "execution_count": 204,
      "outputs": []
    },
    {
      "cell_type": "code",
      "source": "reversed_arr = np.flip(arr_2d)",
      "metadata": {
        "trusted": true
      },
      "execution_count": 205,
      "outputs": []
    },
    {
      "cell_type": "code",
      "source": "print(reversed_arr)",
      "metadata": {
        "trusted": true
      },
      "execution_count": 206,
      "outputs": [
        {
          "name": "stdout",
          "text": "[[12 11 10  9]\n [ 8  7  6  5]\n [ 4  3  2  1]]\n",
          "output_type": "stream"
        }
      ]
    },
    {
      "cell_type": "code",
      "source": "reversed_arr_rows = np.flip(arr_2d, axis=0)",
      "metadata": {
        "trusted": true
      },
      "execution_count": 207,
      "outputs": []
    },
    {
      "cell_type": "code",
      "source": "print(reversed_arr_rows)",
      "metadata": {
        "trusted": true
      },
      "execution_count": 208,
      "outputs": [
        {
          "name": "stdout",
          "text": "[[ 9 10 11 12]\n [ 5  6  7  8]\n [ 1  2  3  4]]\n",
          "output_type": "stream"
        }
      ]
    },
    {
      "cell_type": "code",
      "source": "reversed_arr_columns = np.flip(arr_2d, axis=1)",
      "metadata": {
        "trusted": true
      },
      "execution_count": 209,
      "outputs": []
    },
    {
      "cell_type": "code",
      "source": "print(reversed_arr_columns)",
      "metadata": {
        "trusted": true
      },
      "execution_count": 210,
      "outputs": [
        {
          "name": "stdout",
          "text": "[[ 4  3  2  1]\n [ 8  7  6  5]\n [12 11 10  9]]\n",
          "output_type": "stream"
        }
      ]
    },
    {
      "cell_type": "code",
      "source": "arr_2d[1] = np.flip(arr_2d[1])",
      "metadata": {
        "trusted": true
      },
      "execution_count": 211,
      "outputs": []
    },
    {
      "cell_type": "code",
      "source": "print(arr_2d)",
      "metadata": {
        "trusted": true
      },
      "execution_count": 212,
      "outputs": [
        {
          "name": "stdout",
          "text": "[[ 1  2  3  4]\n [ 8  7  6  5]\n [ 9 10 11 12]]\n",
          "output_type": "stream"
        }
      ]
    },
    {
      "cell_type": "code",
      "source": "arr_2d[:,1] = np.flip(arr_2d[:,1])",
      "metadata": {
        "trusted": true
      },
      "execution_count": 213,
      "outputs": []
    },
    {
      "cell_type": "code",
      "source": "print(arr_2d)",
      "metadata": {
        "trusted": true
      },
      "execution_count": 214,
      "outputs": [
        {
          "name": "stdout",
          "text": "[[ 1 10  3  4]\n [ 8  7  6  5]\n [ 9  2 11 12]]\n",
          "output_type": "stream"
        }
      ]
    },
    {
      "cell_type": "code",
      "source": "x = np.array([[1 , 2, 3, 4], [5, 6, 7, 8], [9, 10, 11, 12]])",
      "metadata": {
        "trusted": true
      },
      "execution_count": 215,
      "outputs": []
    },
    {
      "cell_type": "code",
      "source": "x.flatten()",
      "metadata": {
        "trusted": true
      },
      "execution_count": 216,
      "outputs": [
        {
          "execution_count": 216,
          "output_type": "execute_result",
          "data": {
            "text/plain": "array([ 1,  2,  3,  4,  5,  6,  7,  8,  9, 10, 11, 12])"
          },
          "metadata": {}
        }
      ]
    },
    {
      "cell_type": "code",
      "source": "a1 = x.flatten()",
      "metadata": {
        "trusted": true
      },
      "execution_count": 217,
      "outputs": []
    },
    {
      "cell_type": "code",
      "source": "a1[0] = 99",
      "metadata": {
        "trusted": true
      },
      "execution_count": 218,
      "outputs": []
    },
    {
      "cell_type": "code",
      "source": "print(x)",
      "metadata": {
        "trusted": true
      },
      "execution_count": 219,
      "outputs": [
        {
          "name": "stdout",
          "text": "[[ 1  2  3  4]\n [ 5  6  7  8]\n [ 9 10 11 12]]\n",
          "output_type": "stream"
        }
      ]
    },
    {
      "cell_type": "code",
      "source": "print(a1)",
      "metadata": {
        "trusted": true
      },
      "execution_count": 220,
      "outputs": [
        {
          "name": "stdout",
          "text": "[99  2  3  4  5  6  7  8  9 10 11 12]\n",
          "output_type": "stream"
        }
      ]
    },
    {
      "cell_type": "code",
      "source": "a2 = x.ravel()",
      "metadata": {
        "trusted": true
      },
      "execution_count": 222,
      "outputs": []
    },
    {
      "cell_type": "code",
      "source": "a2[0] = 98",
      "metadata": {
        "trusted": true
      },
      "execution_count": 223,
      "outputs": []
    },
    {
      "cell_type": "code",
      "source": "print(x)",
      "metadata": {
        "trusted": true
      },
      "execution_count": 224,
      "outputs": [
        {
          "name": "stdout",
          "text": "[[98  2  3  4]\n [ 5  6  7  8]\n [ 9 10 11 12]]\n",
          "output_type": "stream"
        }
      ]
    },
    {
      "cell_type": "code",
      "source": "print(a2)",
      "metadata": {
        "trusted": true
      },
      "execution_count": 225,
      "outputs": [
        {
          "name": "stdout",
          "text": "[98  2  3  4  5  6  7  8  9 10 11 12]\n",
          "output_type": "stream"
        }
      ]
    },
    {
      "cell_type": "code",
      "source": "",
      "metadata": {},
      "execution_count": null,
      "outputs": []
    }
  ]
}