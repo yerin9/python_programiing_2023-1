{
  "nbformat": 4,
  "nbformat_minor": 0,
  "metadata": {
    "kernelspec": {
      "display_name": "Python 3",
      "language": "python",
      "name": "python3"
    },
    "language_info": {
      "codemirror_mode": {
        "name": "ipython",
        "version": 3
      },
      "file_extension": ".py",
      "mimetype": "text/x-python",
      "name": "python",
      "nbconvert_exporter": "python",
      "pygments_lexer": "ipython3",
      "version": "3.6.8"
    },
    "colab": {
      "provenance": [],
      "include_colab_link": true
    }
  },
  "cells": [
    {
      "cell_type": "markdown",
      "metadata": {
        "id": "view-in-github",
        "colab_type": "text"
      },
      "source": [
        "<a href=\"https://colab.research.google.com/github/yerin9/python_programiing_2023-1/blob/main/Classes(%E1%84%92%E1%85%A1%E1%86%A8%E1%84%89%E1%85%A2%E1%86%BC%E1%84%8B%E1%85%AD%E1%86%BC)_2022129471_%EA%B9%80%EC%98%88%EB%A6%B0.ipynb\" target=\"_parent\"><img src=\"https://colab.research.google.com/assets/colab-badge.svg\" alt=\"Open In Colab\"/></a>"
      ]
    },
    {
      "cell_type": "markdown",
      "metadata": {
        "id": "URSOnSp3ULD-"
      },
      "source": [
        "<h1>Classes and Objects in Python</h1>"
      ]
    },
    {
      "cell_type": "markdown",
      "metadata": {
        "id": "kGIvL0-jULD_"
      },
      "source": [
        "<p>\n",
        "    <strong>Welcome!</strong> \n",
        "    Objects in programming are like objects in real life. Like life, there are different classes of objects. In this notebook, we will create two classes called Circle and Rectangle. By the end of this notebook, you will have a better idea about :\n",
        "    <ul>\n",
        "        <li>what a class is</li>\n",
        "        <li>what an attribute is</li>\n",
        "        <li>what a method is</li>\n",
        "    </ul>\n",
        "\n",
        "   Don’t worry if you don’t get it the first time, as much of the terminology is confusing. Don’t forget to do the practice tests in the notebook.\n",
        "</p>"
      ]
    },
    {
      "cell_type": "markdown",
      "metadata": {
        "id": "g7ATz-4MULEB"
      },
      "source": [
        "<h2 id=\"intro\">Introduction to Classes and Objects</h2>"
      ]
    },
    {
      "cell_type": "markdown",
      "metadata": {
        "id": "cInKohAaULEC"
      },
      "source": [
        "<h3>Creating a Class</h3>"
      ]
    },
    {
      "cell_type": "markdown",
      "metadata": {
        "id": "7dLsjKBSULEC"
      },
      "source": [
        "The first part of creating a class is giving it a name: In this notebook, we will create two classes, Circle and Rectangle. We need to determine all the data that make up that class, and we call that an attribute. Think about this step as creating a blue print that we will use to create objects. In figure 1 we see two classes, circle and rectangle. Each has their attributes, they are variables. The class circle has the attribute radius and color, while the rectangle has the attribute height and width. Let’s use the visual examples of these shapes before we get to the code, as this will help you get accustomed to the vocabulary."
      ]
    },
    {
      "cell_type": "markdown",
      "metadata": {
        "id": "U7x8-GeUULED"
      },
      "source": [
        "<img src=\"https://s3-api.us-geo.objectstorage.softlayer.net/cf-courses-data/CognitiveClass/PY0101EN/Chapter%203/Images/ClassesClass.png\" width=\"500\" />"
      ]
    },
    {
      "cell_type": "markdown",
      "metadata": {
        "id": "bEDwLstXULED"
      },
      "source": [
        "<i>Figure 1: Classes circle and rectangle, and each has their own attributes. The class circle has the attribute radius and colour, the rectangle has the attribute height and width.</i>\n"
      ]
    },
    {
      "cell_type": "markdown",
      "metadata": {
        "id": "AlqQS-baULEE"
      },
      "source": [
        "<h3 id=\"instance\">Instances of a Class: Objects and Attributes</h3>"
      ]
    },
    {
      "cell_type": "markdown",
      "metadata": {
        "id": "1SV390JrULEE"
      },
      "source": [
        "An instance of an object is the realisation of a class, and in Figure 2 we see three instances of the class circle. We give each object a name: red circle, yellow circle and green circle. Each object has different attributes, so let's focus on the attribute of colour for each object."
      ]
    },
    {
      "cell_type": "markdown",
      "metadata": {
        "id": "MyL7KbnZULEF"
      },
      "source": [
        "<img src=\"https://s3-api.us-geo.objectstorage.softlayer.net/cf-courses-data/CognitiveClass/PY0101EN/Chapter%203/Images/ClassesObj.png\" width=\"500\" />"
      ]
    },
    {
      "cell_type": "markdown",
      "metadata": {
        "id": "TOufMigkULEF"
      },
      "source": [
        "<i>Figure 2: Three instances of the class circle or three objects of type circle.</i>"
      ]
    },
    {
      "cell_type": "markdown",
      "metadata": {
        "id": "qvaSkN-QULEG"
      },
      "source": [
        " The colour attribute for the red circle is the colour red, for the green circle object the colour attribute is green, and for the yellow circle the colour attribute is yellow.   \n"
      ]
    },
    {
      "cell_type": "markdown",
      "metadata": {
        "id": "K0KKzQv9ULEG"
      },
      "source": [
        "<h3 id=\"method\">Methods</h3>"
      ]
    },
    {
      "cell_type": "markdown",
      "metadata": {
        "id": "X8gu6YzTULEH"
      },
      "source": [
        "Methods give you a way to change or interact with the object; they are functions that interact with objects. For example, let’s say we would like to increase the radius by a specified amount of a circle. We can create a method called **add_radius(r)** that increases the radius by **r**. This is shown in figure 3, where after applying the method to the \"orange circle object\", the radius of the object increases accordingly. The “dot” notation means to apply the method to the object, which is essentially applying a function to the information in the object."
      ]
    },
    {
      "cell_type": "markdown",
      "metadata": {
        "id": "xNzW7hYXULEH"
      },
      "source": [
        "<img src=\"https://s3-api.us-geo.objectstorage.softlayer.net/cf-courses-data/CognitiveClass/PY0101EN/Chapter%203/Images/ClassesMethod.png\" width=\"500\" /> "
      ]
    },
    {
      "cell_type": "markdown",
      "metadata": {
        "id": "JBNPO9ckULEI"
      },
      "source": [
        "<i>Figure 3: Applying the method “add_radius” to the object orange circle object.</i>"
      ]
    },
    {
      "cell_type": "markdown",
      "metadata": {
        "id": "k24i8jd8ULEI"
      },
      "source": [
        "<hr>"
      ]
    },
    {
      "cell_type": "markdown",
      "metadata": {
        "id": "GHfFSYkIULEJ"
      },
      "source": [
        "<h2 id=\"creating\">Creating a Class</h2>"
      ]
    },
    {
      "cell_type": "markdown",
      "metadata": {
        "id": "JoAnUUaGULEJ"
      },
      "source": [
        "Now we are going to create a class circle, but first, we are going to import a library to draw the objects: "
      ]
    },
    {
      "cell_type": "code",
      "metadata": {
        "id": "i47_EYRiULEK"
      },
      "source": [
        "# Import the library\n",
        "\n",
        "import matplotlib.pyplot as plt #그림을 그려줘... library.. \n",
        "%matplotlib inline  "
      ],
      "execution_count": 1,
      "outputs": []
    },
    {
      "cell_type": "markdown",
      "metadata": {
        "id": "uCbD9lHlULEO"
      },
      "source": [
        " The first step in creating your own class is to use the <code>class</code> keyword, then the name of the class as shown in Figure 4. In this course the class parent will always be object: "
      ]
    },
    {
      "cell_type": "markdown",
      "metadata": {
        "id": "B1vC7Fu1ULEO"
      },
      "source": [
        "<img src=\"https://s3-api.us-geo.objectstorage.softlayer.net/cf-courses-data/CognitiveClass/PY0101EN/Chapter%203/Images/ClassesDefine.png\" width=\"400\" />"
      ]
    },
    {
      "cell_type": "markdown",
      "metadata": {
        "id": "2uKcKxL-ULEO"
      },
      "source": [
        "<i>Figure 4: Three instances of the class circle or three objects of type circle.</i>"
      ]
    },
    {
      "cell_type": "markdown",
      "metadata": {
        "id": "fUPb5q82ULEP"
      },
      "source": [
        "The next step is a special method called a constructor <code>&#95;&#95;init&#95;&#95;</code>, which is used to initialize the object. The input are data attributes. The term <code>self</code> contains all the attributes in the set. For example the <code>self.color</code> gives the  value of the attribute color and <code>self.radius</code> will give you the radius of the object. We also have the method <code>add_radius()</code> with the parameter <code>r</code>, the method adds the value of <code>r</code> to the attribute radius. To access the radius we use the syntax <code>self.radius</code>. The labeled syntax is summarized in Figure 5:"
      ]
    },
    {
      "cell_type": "markdown",
      "metadata": {
        "id": "QBmszSZCULEP"
      },
      "source": [
        "<img src=\"https://s3-api.us-geo.objectstorage.softlayer.net/cf-courses-data/CognitiveClass/PY0101EN/Chapter%203/Images/ClassesCircle.png\" width=\"600\" />"
      ]
    },
    {
      "cell_type": "markdown",
      "metadata": {
        "id": "iF0eca94ULEQ"
      },
      "source": [
        "<i>Figure 5: Labeled syntax of the object circle.</i>"
      ]
    },
    {
      "cell_type": "markdown",
      "metadata": {
        "id": "wda0A2pWULEQ"
      },
      "source": [
        "The actual object is shown below. We include the method <code>drawCircle</code> to display the image of a circle. We set the default radius to 3 and the default colour to blue:"
      ]
    },
    {
      "cell_type": "code",
      "metadata": {
        "id": "YhoVfpbFULER"
      },
      "source": [
        "# Create a class Circle\n",
        "\n",
        "class Circle(object):\n",
        "    \n",
        "    # Constructor\n",
        "    def __init__(self, radius, color='blue'):\n",
        "        self.radius = radius\n",
        "        self.color = color \n",
        "    \n",
        "    # Method\n",
        "    def add_radius(self, r):\n",
        "        self.radius = self.radius + r\n",
        "        return(self.radius)\n",
        "    \n",
        "    # Method\n",
        "    def drawCircle(self):\n",
        "        plt.gca().add_patch(plt.Circle((0, 0), radius=self.radius, fc=self.color))\n",
        "        plt.axis('scaled')\n",
        "        plt.show()  "
      ],
      "execution_count": 13,
      "outputs": []
    },
    {
      "cell_type": "markdown",
      "metadata": {
        "id": "6rnUAzPkULEU"
      },
      "source": [
        "<hr>"
      ]
    },
    {
      "cell_type": "markdown",
      "metadata": {
        "id": "n_Sya8VDULEU"
      },
      "source": [
        "<h2 id=\"circle\">Creating an instance of a class Circle</h2>"
      ]
    },
    {
      "cell_type": "markdown",
      "metadata": {
        "id": "ySjSEBz5ULEV"
      },
      "source": [
        "Let’s create the object <code>RedCircle</code> of type Circle to do the following:"
      ]
    },
    {
      "cell_type": "code",
      "metadata": {
        "id": "hnZuxC4-ULEV"
      },
      "source": [
        "# Create an object RedCircle\n",
        "\n",
        "RedCircle = Circle(0, 'red')\n",
        "RedCircle.radius\n",
        "RedCircle.add_radius(2)\n",
        "RedCircle.radius\n",
        "RedCircle.add_radius(2)\n",
        "RedCircle.radius\n",
        "RedCircle.add_radius(2)\n"
      ],
      "execution_count": 31,
      "outputs": []
    },
    {
      "cell_type": "code",
      "source": [
        "RedCircle = Circle(1, 'red')\n",
        "RedCircle.radius"
      ],
      "metadata": {
        "colab": {
          "base_uri": "https://localhost:8080/"
        },
        "id": "wOjRUqxrzj7H",
        "outputId": "cce753b9-7a50-4694-dc8b-12a188910883"
      },
      "execution_count": 17,
      "outputs": [
        {
          "output_type": "execute_result",
          "data": {
            "text/plain": [
              "1"
            ]
          },
          "metadata": {},
          "execution_count": 17
        }
      ]
    },
    {
      "cell_type": "markdown",
      "metadata": {
        "id": "JpZxcmgfULEY"
      },
      "source": [
        "We can use the <code>dir</code> command to get a list of the object's methods. Many of them are default Python methods."
      ]
    },
    {
      "cell_type": "code",
      "metadata": {
        "id": "lwE9yTXSULEY",
        "colab": {
          "base_uri": "https://localhost:8080/"
        },
        "outputId": "c50793d1-07c1-4ef3-fac7-f43466839831"
      },
      "source": [
        "# Find out the methods can be used on the object RedCircle\n",
        "\n",
        "dir(RedCircle)"
      ],
      "execution_count": 18,
      "outputs": [
        {
          "output_type": "execute_result",
          "data": {
            "text/plain": [
              "['__class__',\n",
              " '__delattr__',\n",
              " '__dict__',\n",
              " '__dir__',\n",
              " '__doc__',\n",
              " '__eq__',\n",
              " '__format__',\n",
              " '__ge__',\n",
              " '__getattribute__',\n",
              " '__gt__',\n",
              " '__hash__',\n",
              " '__init__',\n",
              " '__init_subclass__',\n",
              " '__le__',\n",
              " '__lt__',\n",
              " '__module__',\n",
              " '__ne__',\n",
              " '__new__',\n",
              " '__reduce__',\n",
              " '__reduce_ex__',\n",
              " '__repr__',\n",
              " '__setattr__',\n",
              " '__sizeof__',\n",
              " '__str__',\n",
              " '__subclasshook__',\n",
              " '__weakref__',\n",
              " 'add_radius',\n",
              " 'color',\n",
              " 'drawCircle',\n",
              " 'radius']"
            ]
          },
          "metadata": {},
          "execution_count": 18
        }
      ]
    },
    {
      "cell_type": "markdown",
      "metadata": {
        "id": "t0nSeUIkULEb"
      },
      "source": [
        "We can look at the data attributes of the object: "
      ]
    },
    {
      "cell_type": "code",
      "metadata": {
        "id": "XSmctd7wULEb",
        "colab": {
          "base_uri": "https://localhost:8080/"
        },
        "outputId": "52851deb-d8b4-4689-cd62-9e2a57f7080a"
      },
      "source": [
        "# Print the object attribute radius\n",
        "\n",
        "RedCircle.radius"
      ],
      "execution_count": 19,
      "outputs": [
        {
          "output_type": "execute_result",
          "data": {
            "text/plain": [
              "1"
            ]
          },
          "metadata": {},
          "execution_count": 19
        }
      ]
    },
    {
      "cell_type": "code",
      "metadata": {
        "id": "rBzwpM5pULEe",
        "colab": {
          "base_uri": "https://localhost:8080/",
          "height": 35
        },
        "outputId": "f5490e55-7ab5-436b-92f7-6eb26ed2af86"
      },
      "source": [
        "# Print the object attribute color\n",
        "\n",
        "RedCircle.color"
      ],
      "execution_count": 20,
      "outputs": [
        {
          "output_type": "execute_result",
          "data": {
            "text/plain": [
              "'red'"
            ],
            "application/vnd.google.colaboratory.intrinsic+json": {
              "type": "string"
            }
          },
          "metadata": {},
          "execution_count": 20
        }
      ]
    },
    {
      "cell_type": "markdown",
      "metadata": {
        "id": "L1U54xOzULEh"
      },
      "source": [
        " We can change the object's data attributes: "
      ]
    },
    {
      "cell_type": "code",
      "metadata": {
        "id": "4nT9GHHrULEh",
        "colab": {
          "base_uri": "https://localhost:8080/"
        },
        "outputId": "e44f318c-7328-4582-d621-69237161b35c"
      },
      "source": [
        "# Set the object attribute radius\n",
        "\n",
        "RedCircle.radius = 10\n",
        "RedCircle.radius"
      ],
      "execution_count": 32,
      "outputs": [
        {
          "output_type": "execute_result",
          "data": {
            "text/plain": [
              "10"
            ]
          },
          "metadata": {},
          "execution_count": 32
        }
      ]
    },
    {
      "cell_type": "markdown",
      "metadata": {
        "id": "dJtCLAnoULEk"
      },
      "source": [
        " We can draw the object by using the method <code>drawCircle()</code>:"
      ]
    },
    {
      "cell_type": "code",
      "metadata": {
        "id": "DGg5KepsULEk",
        "colab": {
          "base_uri": "https://localhost:8080/",
          "height": 430
        },
        "outputId": "83e793d7-487a-4680-e5e6-88ff734bb12e"
      },
      "source": [
        "# Call the method drawCircle\n",
        "RedCircle.radius = 5\n",
        "RedCircle.drawCircle()"
      ],
      "execution_count": 35,
      "outputs": [
        {
          "output_type": "display_data",
          "data": {
            "text/plain": [
              "<Figure size 640x480 with 1 Axes>"
            ],
            "image/png": "[encoded data removed]"
          },
          "metadata": {}
        }
      ]
    },
    {
      "cell_type": "markdown",
      "metadata": {
        "id": "idYtPIV8ULEm"
      },
      "source": [
        "We can increase the radius of the circle by applying the method <code>add_radius()</code>. Let increases the radius by 2 and then by 5:  "
      ]
    },
    {
      "cell_type": "code",
      "metadata": {
        "id": "4b6KpQZVULEn",
        "colab": {
          "base_uri": "https://localhost:8080/",
          "height": 466
        },
        "outputId": "473be81b-da05-454c-9b5d-2f8c2e58d622"
      },
      "source": [
        "# Use method to change the object attribute radius\n",
        "\n",
        "print('Radius of object:',RedCircle.radius)\n",
        "RedCircle.add_radius(5)\n",
        "RedCircle.drawCircle()\n",
        "RedCircle.radius"
      ],
      "execution_count": 37,
      "outputs": [
        {
          "output_type": "stream",
          "name": "stdout",
          "text": [
            "Radius of object: 7\n"
          ]
        },
        {
          "output_type": "display_data",
          "data": {
            "text/plain": [
              "<Figure size 640x480 with 1 Axes>"
            ],
            "image/png": "[encoded data removed]"
          },
          "metadata": {}
        },
        {
          "output_type": "execute_result",
          "data": {
            "text/plain": [
              "12"
            ]
          },
          "metadata": {},
          "execution_count": 37
        }
      ]
    },
    {
      "cell_type": "code",
      "metadata": {
        "id": "xM3BhN2gXPwC",
        "colab": {
          "base_uri": "https://localhost:8080/"
        },
        "outputId": "b83aab66-9153-4cd9-a32f-87333ec45b1a"
      },
      "source": [
        "RedCircle.radius"
      ],
      "execution_count": 38,
      "outputs": [
        {
          "output_type": "execute_result",
          "data": {
            "text/plain": [
              "12"
            ]
          },
          "metadata": {},
          "execution_count": 38
        }
      ]
    },
    {
      "cell_type": "code",
      "metadata": {
        "id": "By0yWcNYXYm4",
        "colab": {
          "base_uri": "https://localhost:8080/"
        },
        "outputId": "76075dd4-951b-4bf2-84bd-24672fac6862"
      },
      "source": [
        "RedCircle.add_radius(5)"
      ],
      "execution_count": 39,
      "outputs": [
        {
          "output_type": "execute_result",
          "data": {
            "text/plain": [
              "17"
            ]
          },
          "metadata": {},
          "execution_count": 39
        }
      ]
    },
    {
      "cell_type": "markdown",
      "metadata": {
        "id": "phGrBp5cULEr"
      },
      "source": [
        " Let’s  create a blue circle. As the default colour is blue, all we have to do is specify what the radius is:"
      ]
    },
    {
      "cell_type": "code",
      "metadata": {
        "id": "bsg1Waw_Xip6",
        "colab": {
          "base_uri": "https://localhost:8080/",
          "height": 430
        },
        "outputId": "c2b3d7e2-feb2-4cf8-f9c8-e049e28cfb56"
      },
      "source": [
        "RedCircle.drawCircle()"
      ],
      "execution_count": 40,
      "outputs": [
        {
          "output_type": "display_data",
          "data": {
            "text/plain": [
              "<Figure size 640x480 with 1 Axes>"
            ],
            "image/png": "[encoded data removed]"
          },
          "metadata": {}
        }
      ]
    },
    {
      "cell_type": "code",
      "metadata": {
        "id": "W19eP1_bULEs"
      },
      "source": [
        "# Create a blue circle with a given radius\n",
        "\n",
        "BlueCircle = Circle(radius=100)"
      ],
      "execution_count": 41,
      "outputs": []
    },
    {
      "cell_type": "markdown",
      "metadata": {
        "id": "kPkqhGGmULEu"
      },
      "source": [
        " As before we can access the attributes of the instance of the class by using the dot notation:"
      ]
    },
    {
      "cell_type": "code",
      "metadata": {
        "id": "bEXhV6XmULEv",
        "colab": {
          "base_uri": "https://localhost:8080/"
        },
        "outputId": "ee055c15-4a29-4793-b723-65f617c8e31d"
      },
      "source": [
        "# Print the object attribute radius\n",
        "\n",
        "BlueCircle.radius"
      ],
      "execution_count": 42,
      "outputs": [
        {
          "output_type": "execute_result",
          "data": {
            "text/plain": [
              "100"
            ]
          },
          "metadata": {},
          "execution_count": 42
        }
      ]
    },
    {
      "cell_type": "code",
      "metadata": {
        "id": "QasVKiKoULEx",
        "colab": {
          "base_uri": "https://localhost:8080/",
          "height": 35
        },
        "outputId": "1074e42a-330a-413f-9708-e1aa86fb9fc0"
      },
      "source": [
        "# Print the object attribute color\n",
        "\n",
        "BlueCircle.color"
      ],
      "execution_count": 43,
      "outputs": [
        {
          "output_type": "execute_result",
          "data": {
            "text/plain": [
              "'blue'"
            ],
            "application/vnd.google.colaboratory.intrinsic+json": {
              "type": "string"
            }
          },
          "metadata": {},
          "execution_count": 43
        }
      ]
    },
    {
      "cell_type": "markdown",
      "metadata": {
        "id": "JRZ3-tf3ULEz"
      },
      "source": [
        " We can draw the object by using the method <code>drawCircle()</code>:"
      ]
    },
    {
      "cell_type": "code",
      "metadata": {
        "id": "9HatPedxULEz",
        "colab": {
          "base_uri": "https://localhost:8080/",
          "height": 430
        },
        "outputId": "a75522a9-114f-4490-e314-096e2d352f88"
      },
      "source": [
        "# Call the method drawCircle\n",
        "\n",
        "BlueCircle.drawCircle()"
      ],
      "execution_count": 44,
      "outputs": [
        {
          "output_type": "display_data",
          "data": {
            "text/plain": [
              "<Figure size 640x480 with 1 Axes>"
            ],
            "image/png": "[encoded data removed]"
          },
          "metadata": {}
        }
      ]
    },
    {
      "cell_type": "markdown",
      "metadata": {
        "id": "e-cGrAQyULE1"
      },
      "source": [
        "Compare the x and y axis of the figure to the figure  for <code>RedCircle</code>; they are different."
      ]
    },
    {
      "cell_type": "markdown",
      "metadata": {
        "id": "8WIyHsBCULE2"
      },
      "source": [
        "<hr>"
      ]
    },
    {
      "cell_type": "markdown",
      "metadata": {
        "id": "Aoe9IQ6jULE2"
      },
      "source": [
        "<h2 id=\"rect\">The Rectangle Class</h2>"
      ]
    },
    {
      "cell_type": "markdown",
      "metadata": {
        "id": "2_PVxIWiULE3"
      },
      "source": [
        "Let's create a class rectangle with the attributes of height, width and color. We will only add the method to draw the rectangle object:"
      ]
    },
    {
      "cell_type": "code",
      "metadata": {
        "id": "ndQKMFKRULE3"
      },
      "source": [
        "# Create a new Rectangle class for creating a rectangle object\n",
        "\n",
        "class Rectangle(object):\n",
        "    \n",
        "    # Constructor #아.. 내가 이제 객체를 하나 초기화 해서 만들어 보겠다. \n",
        "    def __init__(self, width = 2, height = 3, color ='r'): #공식처럼 사용하면 됨\n",
        "        self.height = height \n",
        "        self.width = width\n",
        "        self.color = color\n",
        "    \n",
        "    # Method\n",
        "    def drawRectangle(self):\n",
        "        plt.gca().add_patch(plt.Rectangle((0, 0), self.width, self.height ,fc=self.color))\n",
        "        plt.axis('scaled')\n",
        "        plt.show()"
      ],
      "execution_count": 2,
      "outputs": []
    },
    {
      "cell_type": "markdown",
      "metadata": {
        "id": "EYGZ8cx9ULE5"
      },
      "source": [
        "Let’s create the object <code>SkinnyBlueRectangle</code> of type Rectangle. Its width will be 2 and height will be 3, and the color will be blue:"
      ]
    },
    {
      "cell_type": "code",
      "metadata": {
        "id": "SFvWw3tcULE6"
      },
      "source": [
        "# Create a new object rectangle\n",
        "\n",
        "SkinnyBlueRectangle = Rectangle(2, 3, 'blue')"
      ],
      "execution_count": 45,
      "outputs": []
    },
    {
      "cell_type": "markdown",
      "metadata": {
        "id": "w1bgGVdNULE9"
      },
      "source": [
        " As before we can access the attributes of the instance of the class by using the dot notation:"
      ]
    },
    {
      "cell_type": "code",
      "metadata": {
        "id": "V66wDbsYULE-",
        "colab": {
          "base_uri": "https://localhost:8080/"
        },
        "outputId": "c063016a-c924-4179-b982-a7d9d2472fe8"
      },
      "source": [
        "# Print the object attribute height\n",
        "\n",
        "SkinnyBlueRectangle.height "
      ],
      "execution_count": 46,
      "outputs": [
        {
          "output_type": "execute_result",
          "data": {
            "text/plain": [
              "3"
            ]
          },
          "metadata": {},
          "execution_count": 46
        }
      ]
    },
    {
      "cell_type": "code",
      "metadata": {
        "id": "IrwcV4GWULFA",
        "colab": {
          "base_uri": "https://localhost:8080/"
        },
        "outputId": "d9a9b4a2-ca5f-4e5a-f1b5-11d618f9130a"
      },
      "source": [
        "# Print the object attribute width\n",
        "\n",
        "SkinnyBlueRectangle.width"
      ],
      "execution_count": 47,
      "outputs": [
        {
          "output_type": "execute_result",
          "data": {
            "text/plain": [
              "2"
            ]
          },
          "metadata": {},
          "execution_count": 47
        }
      ]
    },
    {
      "cell_type": "code",
      "metadata": {
        "id": "m4vW1Gm4ULFC",
        "colab": {
          "base_uri": "https://localhost:8080/",
          "height": 35
        },
        "outputId": "f111d279-5a51-4372-c7f1-db18f8dbc7de"
      },
      "source": [
        "# Print the object attribute color\n",
        "\n",
        "SkinnyBlueRectangle.color"
      ],
      "execution_count": 48,
      "outputs": [
        {
          "output_type": "execute_result",
          "data": {
            "text/plain": [
              "'blue'"
            ],
            "application/vnd.google.colaboratory.intrinsic+json": {
              "type": "string"
            }
          },
          "metadata": {},
          "execution_count": 48
        }
      ]
    },
    {
      "cell_type": "markdown",
      "metadata": {
        "id": "hIyfzzzfULFD"
      },
      "source": [
        " We can draw the object:"
      ]
    },
    {
      "cell_type": "code",
      "metadata": {
        "scrolled": true,
        "id": "xCWraFZRULFE",
        "colab": {
          "base_uri": "https://localhost:8080/",
          "height": 430
        },
        "outputId": "7be1335c-e1ea-4531-bef9-b523952dadd8"
      },
      "source": [
        "# Use the drawRectangle method to draw the shape\n",
        "\n",
        "SkinnyBlueRectangle.drawRectangle()"
      ],
      "execution_count": 49,
      "outputs": [
        {
          "output_type": "display_data",
          "data": {
            "text/plain": [
              "<Figure size 640x480 with 1 Axes>"
            ],
            "image/png": "[encoded data removed]"
          },
          "metadata": {}
        }
      ]
    },
    {
      "cell_type": "markdown",
      "metadata": {
        "id": "l44EbuaUULFG"
      },
      "source": [
        "Let’s create the object <code>FatYellowRectangle</code> of type Rectangle :"
      ]
    },
    {
      "cell_type": "code",
      "metadata": {
        "id": "t3KWwjwhULFG"
      },
      "source": [
        "# Create a new object rectangle\n",
        "\n",
        "FatYellowRectangle = Rectangle(20, 5, 'yellow')"
      ],
      "execution_count": 50,
      "outputs": []
    },
    {
      "cell_type": "markdown",
      "metadata": {
        "id": "h4KZJVP5ULFI"
      },
      "source": [
        " We can access the attributes of the instance of the class by using the dot notation:"
      ]
    },
    {
      "cell_type": "code",
      "metadata": {
        "id": "Hc8QCipJULFI",
        "colab": {
          "base_uri": "https://localhost:8080/"
        },
        "outputId": "28ba7208-3f35-420c-8458-943d3cdcf212"
      },
      "source": [
        "# Print the object attribute height\n",
        "\n",
        "FatYellowRectangle.height "
      ],
      "execution_count": 51,
      "outputs": [
        {
          "output_type": "execute_result",
          "data": {
            "text/plain": [
              "5"
            ]
          },
          "metadata": {},
          "execution_count": 51
        }
      ]
    },
    {
      "cell_type": "code",
      "metadata": {
        "id": "inUaBOHmULFL",
        "colab": {
          "base_uri": "https://localhost:8080/"
        },
        "outputId": "fcfb8b13-9254-4f46-b9d3-ee281954ef01"
      },
      "source": [
        "# Print the object attribute width\n",
        "\n",
        "FatYellowRectangle.width"
      ],
      "execution_count": 52,
      "outputs": [
        {
          "output_type": "execute_result",
          "data": {
            "text/plain": [
              "20"
            ]
          },
          "metadata": {},
          "execution_count": 52
        }
      ]
    },
    {
      "cell_type": "code",
      "metadata": {
        "id": "dh1FCcwMULFN",
        "colab": {
          "base_uri": "https://localhost:8080/",
          "height": 35
        },
        "outputId": "7f079313-1cbe-43db-d367-6fe9c8fa5da9"
      },
      "source": [
        "# Print the object attribute color\n",
        "\n",
        "FatYellowRectangle.color"
      ],
      "execution_count": 53,
      "outputs": [
        {
          "output_type": "execute_result",
          "data": {
            "text/plain": [
              "'yellow'"
            ],
            "application/vnd.google.colaboratory.intrinsic+json": {
              "type": "string"
            }
          },
          "metadata": {},
          "execution_count": 53
        }
      ]
    },
    {
      "cell_type": "markdown",
      "metadata": {
        "id": "IgWFJY-RULFP"
      },
      "source": [
        " We can draw the object:"
      ]
    },
    {
      "cell_type": "code",
      "metadata": {
        "id": "ZLjbYUnNULFQ",
        "colab": {
          "base_uri": "https://localhost:8080/",
          "height": 184
        },
        "outputId": "ac83e8cd-8eb6-4f14-dd19-252634474498"
      },
      "source": [
        "# Use the drawRectangle method to draw the shape\n",
        "\n",
        "FatYellowRectangle.drawRectangle()"
      ],
      "execution_count": 54,
      "outputs": [
        {
          "output_type": "display_data",
          "data": {
            "text/plain": [
              "<Figure size 640x480 with 1 Axes>"
            ],
            "image/png": "[encoded data removed]"
          },
          "metadata": {}
        }
      ]
    },
    {
      "cell_type": "markdown",
      "metadata": {
        "id": "92FWTamjULFS"
      },
      "source": [
        "<hr>\n",
        "<h2>The last exercise!</h2>\n",
        "<p>Congratulations, you have completed your first lesson and hands-on lab in Python. However, there is one more thing you need to do. The Data Science community encourages sharing work. The best way to share and showcase your work is to share it on GitHub. By sharing your notebook on GitHub you are not only building your reputation with fellow data scientists, but you can also show it off when applying for a job. Even though this was your first piece of work, it is never too early to start building good habits. Please submit all your exercises to Github & let the traces in our LMS, so for me to access your work\n",
        "<hr>"
      ]
    },
    {
      "cell_type": "markdown",
      "metadata": {
        "id": "4jtem_wmULFV"
      },
      "source": [
        "<p>Copyright &copy; 2023 RYU HOKYOUNG based on 2018 IBM Developer Skills Network. This notebook and its source code are released under the terms of the <a href=\"https://cognitiveclass.ai/mit-license/\">MIT License</a>.</p>"
      ]
    }
  ]
}